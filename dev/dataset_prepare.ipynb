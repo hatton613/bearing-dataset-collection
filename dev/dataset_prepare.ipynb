{
 "cells": [
  {
   "metadata": {
    "ExecuteTime": {
     "end_time": "2024-06-05T04:29:51.865252Z",
     "start_time": "2024-06-05T04:29:51.656893Z"
    }
   },
   "cell_type": "code",
   "source": "from formatter import *",
   "id": "d8eac699b1d3fa19",
   "outputs": [],
   "execution_count": 1
  },
  {
   "cell_type": "code",
   "id": "initial_id",
   "metadata": {
    "collapsed": true,
    "ExecuteTime": {
     "end_time": "2024-06-03T07:06:20.493319Z",
     "start_time": "2024-06-03T07:06:20.300455Z"
    }
   },
   "source": "dataset = RawDataset()",
   "outputs": [],
   "execution_count": 1
  },
  {
   "metadata": {
    "ExecuteTime": {
     "end_time": "2024-06-03T07:06:24.095047Z",
     "start_time": "2024-06-03T07:06:20.494322Z"
    }
   },
   "cell_type": "code",
   "source": "add_cwru(dataset)",
   "id": "3b334df687eb11c0",
   "outputs": [
    {
     "name": "stderr",
     "output_type": "stream",
     "text": [
      "100%|██████████| 161/161 [00:03<00:00, 44.81it/s, 99.mat]  \n"
     ]
    }
   ],
   "execution_count": 2
  },
  {
   "metadata": {
    "ExecuteTime": {
     "end_time": "2024-06-03T07:06:37.656064Z",
     "start_time": "2024-06-03T07:06:24.095047Z"
    }
   },
   "cell_type": "code",
   "source": "add_dirg(dataset)",
   "id": "93e1a00f9679df2a",
   "outputs": [
    {
     "name": "stderr",
     "output_type": "stream",
     "text": [
      "100%|██████████| 119/119 [00:13<00:00,  8.79it/s, C6A_500_500_1.mat]\n"
     ]
    }
   ],
   "execution_count": 3
  },
  {
   "metadata": {
    "ExecuteTime": {
     "end_time": "2024-06-03T07:07:07.685207Z",
     "start_time": "2024-06-03T07:06:37.656064Z"
    }
   },
   "cell_type": "code",
   "source": "add_hit(dataset)",
   "id": "d49a49d050a4330c",
   "outputs": [
    {
     "name": "stderr",
     "output_type": "stream",
     "text": [
      "100%|██████████| 6/6 [00:30<00:00,  5.00s/it, data5.npy]                                                                  \n"
     ]
    }
   ],
   "execution_count": 4
  },
  {
   "metadata": {
    "ExecuteTime": {
     "end_time": "2024-06-03T07:07:12.589745Z",
     "start_time": "2024-06-03T07:07:07.686210Z"
    }
   },
   "cell_type": "code",
   "source": "add_hust(dataset)",
   "id": "6befe52e11e8e7fb",
   "outputs": [
    {
     "name": "stderr",
     "output_type": "stream",
     "text": [
      "100%|██████████| 99/99 [00:04<00:00, 20.30it/s, OB804.mat]\n"
     ]
    }
   ],
   "execution_count": 5
  },
  {
   "metadata": {
    "ExecuteTime": {
     "end_time": "2024-06-03T07:10:00.490206Z",
     "start_time": "2024-06-03T07:07:12.590254Z"
    }
   },
   "cell_type": "code",
   "source": "add_ims(dataset)",
   "id": "9c8d27e9f7c802ad",
   "outputs": [
    {
     "name": "stderr",
     "output_type": "stream",
     "text": [
      "100%|██████████| 2156/2156 [01:01<00:00, 35.00it/s, 1st_test:2003.11.25.23.39.56]\n",
      "100%|██████████| 984/984 [00:13<00:00, 70.69it/s, 2nd_test:2004.02.19.06.22.39]\n",
      "100%|██████████| 6324/6324 [01:32<00:00, 68.66it/s, 3rd_test:2004.04.18.02.42.55]\n"
     ]
    }
   ],
   "execution_count": 6
  },
  {
   "metadata": {
    "ExecuteTime": {
     "end_time": "2024-06-03T07:11:57.950658Z",
     "start_time": "2024-06-03T07:10:00.490206Z"
    }
   },
   "cell_type": "code",
   "source": "add_jnu(dataset)",
   "id": "c937d4416d01a47a",
   "outputs": [
    {
     "name": "stderr",
     "output_type": "stream",
     "text": [
      "100%|██████████| 32/32 [01:57<00:00,  3.67s/it, N500.csv]   \n"
     ]
    }
   ],
   "execution_count": 7
  },
  {
   "metadata": {
    "ExecuteTime": {
     "end_time": "2024-06-03T07:11:58.258526Z",
     "start_time": "2024-06-03T07:11:57.951161Z"
    }
   },
   "cell_type": "code",
   "source": "add_mfpt(dataset)",
   "id": "4643ef8d6a3fe6ba",
   "outputs": [
    {
     "name": "stderr",
     "output_type": "stream",
     "text": [
      "100%|██████████| 3/3 [00:00<00:00, 30.61it/s, 1 - Three Baseline Conditions:baseline_3.mat]\n",
      "100%|██████████| 4/4 [00:00<00:00, 45.29it/s, 2 - Three Outer Race Fault Conditions:OuterRaceFault_3.mat]\n",
      "100%|██████████| 7/7 [00:00<00:00, 128.01it/s, 3 - Seven More Outer Race Fault Conditions:OuterRaceFault_vload_7.mat]\n",
      "100%|██████████| 11/11 [00:00<00:00, 186.80it/s, 4 - Seven Inner Race Fault Conditions:InnerRaceFault_vload_7.mat]\n"
     ]
    }
   ],
   "execution_count": 8
  },
  {
   "metadata": {
    "ExecuteTime": {
     "end_time": "2024-06-03T07:13:22.163872Z",
     "start_time": "2024-06-03T07:11:58.258526Z"
    }
   },
   "cell_type": "code",
   "source": "add_pu(dataset)",
   "id": "c05b040a2206cf84",
   "outputs": [
    {
     "name": "stderr",
     "output_type": "stream",
     "text": [
      "100%|██████████| 1886/1886 [01:23<00:00, 22.48it/s, N15_M07_F10_KI08_9.mat] \n"
     ]
    }
   ],
   "execution_count": 9
  },
  {
   "metadata": {
    "ExecuteTime": {
     "end_time": "2024-06-03T07:16:32.464458Z",
     "start_time": "2024-06-03T07:13:22.163872Z"
    }
   },
   "cell_type": "code",
   "source": "add_xjtu(dataset)",
   "id": "8ffdfc396f03bf85",
   "outputs": [
    {
     "name": "stderr",
     "output_type": "stream",
     "text": [
      "100%|██████████| 9216/9216 [03:09<00:00, 48.58it/s, 99.csv]  \n"
     ]
    }
   ],
   "execution_count": 10
  },
  {
   "metadata": {
    "ExecuteTime": {
     "end_time": "2024-06-03T07:16:32.467951Z",
     "start_time": "2024-06-03T07:16:32.464458Z"
    }
   },
   "cell_type": "code",
   "source": "dataset.close()",
   "id": "a56b43f694e10c72",
   "outputs": [],
   "execution_count": 11
  },
  {
   "metadata": {
    "ExecuteTime": {
     "end_time": "2024-06-05T04:32:48.436623Z",
     "start_time": "2024-06-05T04:29:53.493391Z"
    }
   },
   "cell_type": "code",
   "source": "split_raw_dataset()",
   "id": "fa84ab513b716691",
   "outputs": [
    {
     "name": "stderr",
     "output_type": "stream",
     "text": [
      "100%|██████████| 77969/77969 [02:54<00:00, 445.79it/s]\n"
     ]
    }
   ],
   "execution_count": 2
  },
  {
   "metadata": {},
   "cell_type": "code",
   "outputs": [],
   "execution_count": null,
   "source": "",
   "id": "9eccbab78b966ec6"
  }
 ],
 "metadata": {
  "kernelspec": {
   "display_name": "Python 3",
   "language": "python",
   "name": "python3"
  },
  "language_info": {
   "codemirror_mode": {
    "name": "ipython",
    "version": 2
   },
   "file_extension": ".py",
   "mimetype": "text/x-python",
   "name": "python",
   "nbconvert_exporter": "python",
   "pygments_lexer": "ipython2",
   "version": "2.7.6"
  }
 },
 "nbformat": 4,
 "nbformat_minor": 5
}
